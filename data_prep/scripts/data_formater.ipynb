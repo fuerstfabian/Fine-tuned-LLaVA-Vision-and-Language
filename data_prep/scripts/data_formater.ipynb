{
 "cells": [
  {
   "cell_type": "markdown",
   "metadata": {},
   "source": [
    "# Data Formater"
   ]
  },
  {
   "cell_type": "markdown",
   "metadata": {},
   "source": [
    "## Change file names"
   ]
  },
  {
   "cell_type": "code",
   "execution_count": 4,
   "metadata": {},
   "outputs": [],
   "source": [
    "'''\n",
    "import os\n",
    "\n",
    "# specify the folder path\n",
    "folder_path = '/Users/fabian.fuerst/Documents/GitHub/Fine-tuned-LLaVA-Vision-and-Language/data_prep/data'\n",
    "\n",
    "# iterate over all files in the folder\n",
    "for filename in os.listdir(folder_path):\n",
    "    if filename.endswith('.jpg'):\n",
    "        # create the new filename\n",
    "        new_filename = 'figure' + filename[3:-5] + '.jpg'\n",
    "        # rename the file\n",
    "        os.rename(os.path.join(folder_path, filename), os.path.join(folder_path, new_filename))\n",
    "'''"
   ]
  },
  {
   "cell_type": "markdown",
   "metadata": {},
   "source": [
    "## Create csv file with caption placeholders"
   ]
  },
  {
   "cell_type": "code",
   "execution_count": 12,
   "metadata": {},
   "outputs": [],
   "source": [
    "'''\n",
    "import os\n",
    "import pandas as pd\n",
    "\n",
    "# Sort the image names in numerical descending order\n",
    "image_names.sort(key=lambda x: int(x.split('_')[1].split('.')[0]))\n",
    "\n",
    "# create a dataframe\n",
    "df = pd.DataFrame({'image_name': image_names, 'captions': ['placeholder' for _ in image_names]})\n",
    "\n",
    "# save the dataframe to a csv file\n",
    "df.to_csv(os.path.join(folder_path, 'train_captions.csv'), index=False)\n",
    "\n",
    "# get the last three images\n",
    "test_images = image_names[-3:]\n",
    "\n",
    "# create a dataframe for the test images\n",
    "test_df = pd.DataFrame({'image_name': test_images, 'captions': ['placeholder' for _ in test_images]})\n",
    "\n",
    "# save the test dataframe to a csv file\n",
    "test_df.to_csv(os.path.join(folder_path, 'test_captions.csv'), index=False)\n",
    "'''"
   ]
  },
  {
   "cell_type": "code",
   "execution_count": null,
   "metadata": {},
   "outputs": [],
   "source": [
    "from PIL import Image\n",
    "\n",
    "# specify the target size\n",
    "target_size = (366, 366)\n",
    "\n",
    "folder_path = '/Users/fabian.fuerst/Documents/GitHub/Fine-tuned-LLaVA-Vision-and-Language/data_prep/data'\n",
    "\n",
    "# iterate over all files in the folder\n",
    "for filename in os.listdir(folder_path):\n",
    "    if filename.endswith('.jpg'):\n",
    "        # open the image\n",
    "        img = Image.open(os.path.join(folder_path, filename))\n",
    "        # resize the image\n",
    "        img = img.resize(target_size, Image.ANTIALIAS)\n",
    "        # save the image\n",
    "        img.save(os.path.join(folder_path, filename))"
   ]
  }
 ],
 "metadata": {
  "kernelspec": {
   "display_name": "Python 3",
   "language": "python",
   "name": "python3"
  },
  "language_info": {
   "codemirror_mode": {
    "name": "ipython",
    "version": 3
   },
   "file_extension": ".py",
   "mimetype": "text/x-python",
   "name": "python",
   "nbconvert_exporter": "python",
   "pygments_lexer": "ipython3",
   "version": "3.11.11"
  }
 },
 "nbformat": 4,
 "nbformat_minor": 2
}
