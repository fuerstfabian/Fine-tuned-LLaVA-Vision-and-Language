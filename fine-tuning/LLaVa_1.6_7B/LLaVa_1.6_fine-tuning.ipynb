{
 "cells": [
  {
   "cell_type": "markdown",
   "metadata": {},
   "source": [
    "# Multi-Modal Fine-Tuning\n"
   ]
  },
  {
   "cell_type": "markdown",
   "metadata": {},
   "source": [
    "## Install and import libraries"
   ]
  },
  {
   "cell_type": "code",
   "execution_count": 18,
   "metadata": {},
   "outputs": [],
   "source": [
    "!pip install matplotlib -q -U\n",
    "!pip install datasets -q -U\n",
    "!pip install -q bitsandbytes sentencepiece  accelerate loralib\n",
    "!pip install -q -U git+https://github.com/huggingface/peft.git\n",
    "!pip install hf_transfer -q -U\n",
    "!pip install pickleshare -q\n",
    "!pip install Pillow==10.4.0 -q\n",
    "!pip install pickleshare -q\n",
    "!pip install peft==0.10.0 -q\n",
    "!pip install transformers==4.37.2 -q"
   ]
  },
  {
   "cell_type": "code",
   "execution_count": null,
   "metadata": {},
   "outputs": [],
   "source": [
    "# Allows for faster downloads\n",
    "%env HF_HUB_ENABLE_HF_TRANSFER=1"
   ]
  },
  {
   "cell_type": "code",
   "execution_count": null,
   "metadata": {},
   "outputs": [],
   "source": [
    "import os\n",
    "\n",
    "if not os.path.isdir('LLaVA'):\n",
    "    !git clone https://github.com/haotian-liu/LLaVA.git\n",
    "else:\n",
    "    print('LLaVA already exists. Skipping clone.')"
   ]
  },
  {
   "cell_type": "code",
   "execution_count": null,
   "metadata": {},
   "outputs": [],
   "source": [
    "import re\n",
    "\n",
    "# Define the path to the builder.py file\n",
    "file_path = 'LLaVA/llava/model/builder.py'\n",
    "\n",
    "# Read the content of the file\n",
    "with open(file_path, 'r') as file:\n",
    "    content = file.read()\n",
    "\n",
    "# Regular expression to find the block between 'vision_tower = model.get_vision_tower()' and 'vision_tower.image_processor'\n",
    "pattern_block = (\n",
    "    r'(vision_tower = model.get_vision_tower\\(\\)\\n)'\n",
    "    r'.*?' # Non-greedy match for any characters\n",
    "    r'(image_processor = vision_tower.image_processor)'\n",
    ")\n",
    "\n",
    "replacement_block = (\n",
    "    r'\\1' # Keep the first line unchanged\n",
    "    '        if not vision_tower.is_loaded:\\n'\n",
    "    '           print(\\'vision_tower is not loades so loading now\\')\\n'\n",
    "    '           vision_tower.load_model(device_map=device_map)\\n'\n",
    "    '           vision_tower.to(device=device_map, dtype=torch.float16)\\n'\n",
    "    '        else:\\n'\n",
    "    '           print(\\'vision_tower is already loaded\\')\\n'\n",
    "    r'      \\2' # Keep the last line unchanged\n",
    ")\n",
    "\n",
    "# Replace the specific block\n",
    "content = re.sub(pattern_block, replacement_block, content, flags=re.DOTALL)\n",
    "\n",
    "# Write the content back to the file\n",
    "with open(file_path, 'w') as file:\n",
    "    file.write(content)\n",
    "\n",
    "print('File modified successfully.')"
   ]
  },
  {
   "cell_type": "code",
   "execution_count": null,
   "metadata": {},
   "outputs": [],
   "source": [
    "import re\n",
    "\n",
    "# Define the path to the builder.py file\n",
    "file_path = 'LLaVA/llava/model/builder.py'\n",
    "\n",
    "# Read the content of the file\n",
    "with open(file_path, 'r') as file:\n",
    "    content = file.read()\n",
    "\n",
    "# Regular expression to find 'float16' and replace it with 'float16'\n",
    "pattern = r'(?<!b)float16'\n",
    "\n",
    "# CHeck if there are any matches\n",
    "if re.search(pattern, content):\n",
    "    # Replace all matches\n",
    "    modified_content = re.sub(pattern, 'float16', content)\n",
    "\n",
    "    # Write the content back to the file\n",
    "    with open(file_path, 'w') as file:\n",
    "        file.write(content)\n",
    "\n",
    "    print('File modified successfully.')\n",
    "else:\n",
    "    print('No modification needed.')"
   ]
  },
  {
   "cell_type": "code",
   "execution_count": null,
   "metadata": {},
   "outputs": [],
   "source": [
    "%cd LLaVA"
   ]
  },
  {
   "cell_type": "code",
   "execution_count": null,
   "metadata": {},
   "outputs": [],
   "source": [
    "# Takes quite a while to run\n",
    "!pip install -e . -q"
   ]
  },
  {
   "cell_type": "code",
   "execution_count": null,
   "metadata": {},
   "outputs": [],
   "source": [
    "!pip install protobuf -q -U\n",
    "!pip install -e '.[train]' -q\n",
    "!pip install flash-attn --no-build-isolation -q"
   ]
  },
  {
   "cell_type": "markdown",
   "metadata": {},
   "source": [
    "## Load the Model"
   ]
  },
  {
   "cell_type": "code",
   "execution_count": 12,
   "metadata": {},
   "outputs": [],
   "source": [
    "import torch\n",
    "from datasets import load_dataset\n",
    "import transformers\n",
    "from peft import LoraConfig, get_peft_model\n",
    "from PIL import Image\n",
    "from transformers import AutoProcessor, Trainer, TrainingArguments, BitsAndBytesConfig\n",
    "import torchvision.transforms as transforms"
   ]
  },
  {
   "cell_type": "code",
   "execution_count": null,
   "metadata": {},
   "outputs": [],
   "source": [
    "from llava.model.builder import load_pretrained_model\n",
    "from llava.mm_utils import get_model_name_from_path\n",
    "from llava.eval.run_llava import eval_model\n",
    "\n",
    "device = 'cuda' if torch.cuda.is_available() else 'cpu'\n",
    "\n",
    "model_path = 'liuhaotian/llava-v1.6-mistral-7b' # needs about 100 GB of VRAM equals 3 x A6000 cards to fine-tune in 16 bit\n",
    "\n",
    "model_name = get_model_name_from_path(model_path)\n",
    "\n",
    "tokenizer, model, image_processor, context_len = load_pretrained_model(\n",
    "    model_path=model_path,\n",
    "    model_base=None,\n",
    "    model_name=model_name,\n",
    "    cache_dir='',\n",
    "    use_flash_attn=True,\n",
    ")"
   ]
  },
  {
   "cell_type": "markdown",
   "metadata": {},
   "source": [
    "## Optional examination"
   ]
  },
  {
   "cell_type": "code",
   "execution_count": null,
   "metadata": {},
   "outputs": [],
   "source": [
    "import torch\n",
    "\n",
    "print('modules not torch.float16:')\n",
    "for name, module in model.named_modules():\n",
    "    if hasattr(module, 'parameters') and list(module.parameters()):\n",
    "        # Check if the module has float16 parameters\n",
    "        if any(param.dtype != torch.float16 for param in module.parameters()):\n",
    "            print(f'{name}: {next(module.parameters()).dtype}')\n",
    "        else:\n",
    "            pass"
   ]
  },
  {
   "cell_type": "markdown",
   "metadata": {},
   "source": [
    "## Inference"
   ]
  },
  {
   "cell_type": "markdown",
   "metadata": {},
   "source": [
    "Methode um die Inference zu messen"
   ]
  },
  {
   "cell_type": "code",
   "execution_count": null,
   "metadata": {},
   "outputs": [],
   "source": [
    "# Method to test the model's inference\n",
    "import torch\n",
    "import re\n",
    "from torchvision.transforms import Compose, ToTensor, Normalize\n",
    "from torchvision.transforms.functional import to_pil_image, to_tensor\n",
    "from PIL import Image\n",
    "import requests\n",
    "from io import BytesIO\n",
    "\n",
    "from llava.constants import (\n",
    "    IMAGE_TOKEN_INDEX,\n",
    "    DEFAULT_IMAGE_TOKEN,\n",
    "    DEFAULT_IM_START_TOKEN,\n",
    "    DEFAULT_IM_END_TOKEN,\n",
    "    IMAGE_PLACEHOLDER,\n",
    ")\n",
    "from llava.conversation import conv_templates, SeparatorStyle\n",
    "from llava.model.builder import load_pretrained_model\n",
    "from llava.utils import disable_torch_init\n",
    "from llava.mm_utils import (\n",
    "    process_images,\n",
    "    tokenizer_image_token,\n",
    "    get_model_name_from_path,\n",
    ")\n",
    "\n",
    "# Common function to create prompts\n",
    "def create_prompt(query, model, model_name=model_name, captions=None):\n",
    "    image_token_se = DEFAULT_IM_START_TOKEN + DEFAULT_IMAGE_TOKEN + DEFAULT_IM_END_TOKEN\n",
    "    if IMAGE_PLACEHOLDER in query:\n",
    "        if model.config.mm_use_im_start_end:\n",
    "            query = query.replace(IMAGE_PLACEHOLDER, image_token_se, query)\n",
    "        else:\n",
    "            query = re.sub(IMAGE_PLACEHOLDER, DEFAULT_IMAGE_TOKEN, query)\n",
    "    else:\n",
    "        if model.config.mm_use_im_start_end:\n",
    "            query = image_token_se + '\\n' + query\n",
    "        else:\n",
    "            query = DEFAULT_IMAGE_TOKEN + '\\n' + query\n",
    "\n",
    "        conv_mode = infer_conv_mode(model_name)\n",
    "        conv = conv_templates[conv_mode].copy()\n",
    "        conv.append_message(conv.roles[0], query)\n",
    "        if captions is not None:\n",
    "            conv.append_message(conv.roles[1], captions)\n",
    "        else:\n",
    "            conv.append_message(conv.roles[1], None)\n",
    "        return conv.get_prompt()\n",
    "    \n",
    "# Common function to infer conversation mode\n",
    "def infer_conv_mode(model_name):\n",
    "    if 'llama-2' in model_name.lower():\n",
    "        return ' llava_llama_2'\n",
    "    else:\n",
    "        return 'mistral_instruct'\n",
    "        \n",
    "# Common function to process images\n",
    "def process_and_prepare_images(image_files, image_processor, model, device):\n",
    "    images = [load_image(image_file) for image_file in image_files]\n",
    "    images_tensor = process_images(\n",
    "        images, \n",
    "        image_processor, \n",
    "        model.config\n",
    "    ).to(\n",
    "        device,\n",
    "        dtype=torch.float16\n",
    "    )\n",
    "    image_sizes = [image.size for image in images]\n",
    "    return images_tensor, image_sizes"
   ]
  },
  {
   "cell_type": "code",
   "execution_count": null,
   "metadata": {},
   "outputs": [],
   "source": [
    "import torch\n",
    "import re\n",
    "\n",
    "def load_image(image_input):\n",
    "    # Check if the input is a string (path/url)\n",
    "    if isinstance(image_input, str):\n",
    "        if image_input.startswith('http') or image_input.startswith('https'):\n",
    "            response = requests.get(image_input)\n",
    "            image = Image.open(BytesIO(response.content)).convert('RGB')\n",
    "        else:\n",
    "            image = Image.open(image_input).convert('RGB')\n",
    "    elif isinstance(image_input, Image.Image):\n",
    "        # Input is already an image\n",
    "        image = image_input\n",
    "    else:\n",
    "        raise ValueError('Invalid input. Please provide a valid input type.')\n",
    "    return image\n",
    "\n",
    "def eval_model(tokenizer, model, image_processor, context_len, image_file, query, model_name=model_name, sep=',', temperature=1.0, num_beams=1, max_new_tokens=512):\n",
    "    # Model\n",
    "    disable_torch_init()\n",
    "\n",
    "    # Create prompt using the common function\n",
    "    prompt = create_prompt('Describe the image.',model, model_name)\n",
    "\n",
    "    print(f\"Prompt: {prompt}\")\n",
    "\n",
    "    # Process images using the common function\n",
    "    if isinstance(image_file, list):\n",
    "        images_tensor, image_sizes = process_and_prepare_images(image_file, image_processor, model, model.device)\n",
    "    elif isinstance(image_file, str):\n",
    "        images_tensor, image_sizes = process_and_prepare_images([image_file], image_processor, model, model.device)\n",
    "    else:\n",
    "        # If image_files is not a list or a string, it's likely an Image Object\n",
    "        images = [image_file]\n",
    "        images_tensor, image_sizes = process_and_prepare_images(images, image_processor, model, model.device)\n",
    "\n",
    "    # Tokenize the prompt using the custom tokenizer_image_token function\n",
    "    input_ids = (\n",
    "        tokenizer_image_token(prompt, tokenizer, IMAGE_TOKEN_INDEX, return_tensors='pt')\n",
    "        .unsqueeze(0)\n",
    "        .to(model.device)\n",
    "    )\n",
    "\n",
    "    with torch.inference_mode():\n",
    "        output_ids = model.generate(\n",
    "            input_ids,\n",
    "            images=images_tensor,\n",
    "            image_sizes=image_sizes,\n",
    "            do_sample=temperature != 1.0,\n",
    "            temperature=temperature,\n",
    "            num_beams=num_beams,\n",
    "            max_new_tokens=max_new_tokens,\n",
    "            use_cache=True,\n",
    "        )\n",
    "        \n",
    "    outputs = tokenizer.batch_decode(output_ids, skip_special_tokens=False)\n",
    "    print(outputs)\n"
   ]
  },
  {
   "cell_type": "code",
   "execution_count": null,
   "metadata": {},
   "outputs": [],
   "source": [
    "import requests\n",
    "from PIL import Image\n",
    "from io import BytesIO\n",
    "\n",
    "# Raw image URL from GitHub\n",
    "image_url = 'https://github.com/fuerstfabian/Fine-tuned-LLaVA-Vision-and-Language/blob/main/data_prep/data/figure_9647.jpg?raw=true'\n",
    "\n",
    "# Download image and open it with PIL\n",
    "response = requests.get(image_url)\n",
    "image = Image.open(BytesIO(response.content))\n",
    "\n",
    "import matplotlib.pyplot as plt\n",
    "plt.imshow(image)\n",
    "plt.axis('off')\n",
    "plt.show()\n",
    "\n",
    "# Pass processed image to the eval_model function\n",
    "eval_model(\n",
    "    tokenizer,\n",
    "    model,\n",
    "    image_processor,\n",
    "    context_len, \n",
    "    image, \n",
    "    'What do you see in the image?', \n",
    "    model_name=model_name\n",
    ")"
   ]
  },
  {
   "cell_type": "markdown",
   "metadata": {},
   "source": [
    "## Fine-Tuning Dataset"
   ]
  },
  {
   "cell_type": "markdown",
   "metadata": {},
   "source": [
    "Vorbereiten des Datasets, welches für das Fine-Tuning verwendet wird"
   ]
  },
  {
   "cell_type": "code",
   "execution_count": null,
   "metadata": {},
   "outputs": [],
   "source": [
    "from torch.nn.utils.rnn import pad_sequence\n",
    "\n",
    "def tokenize_and_create_labels(example_batch, image_processor, tokenizer, model):\n",
    "    pad_token_id = tokenizer.pad_token_id\n",
    "    image_files = example_batch['image']\n",
    "    ignore_index = -100\n",
    "\n",
    "    images_tensor, image_sizes = process_and_prepare_images(image_files, image_processor, model, model.device)\n",
    "\n",
    "    query = 'What do you see in the image?'\n",
    "\n",
    "    # Tokenize the conversation without the captionss to determine which tokens are used\n",
    "    tokenized_conversations_without_captions = [\n",
    "        torch.tensor(tokenizer_image_token(create_prompt(query, model, model_name, None), tokenizer))\n",
    "        for _ in example_batch['captions']\n",
    "    ]\n",
    "\n",
    "    # Tokenize the full conversation\n",
    "    tokenized_conversations_with_captions = [\n",
    "        torch.tensor(tokenizer_image_token(create_prompt(query, model, model_name, captions), tokenizer))\n",
    "        for captions in example_batch['captions']\n",
    "    ]\n",
    "\n",
    "    # Pad the tokenized conversations to the same length\n",
    "    input_ids = pad_sequence([tcwc.squeeze(0) for tcwc in tokenized_conversations_with_captions], batch_first=True, padding_value=pad_token_id)\n",
    "\n",
    "    # Create attention_mask (1 for real tokens and 0 for padding tokens)\n",
    "    attention_mask = (input_ids != pad_token_id).long().to(device)\n",
    "\n",
    "    # Create the labels tensor which is a copy of input_ids but with ignore_index for padding tokens\n",
    "    labels = torch.full_like(input_ids, fill_value=ignore_index)\n",
    "    for i, tcwc in enumerate(tokenized_conversations_without_captions):\n",
    "        # Set ignore_index for the tokens corresponding to the conversation\n",
    "        input_id_without_captions = tcwc.squeeze(0)\n",
    "        labels[i, len(input_id_without_captions):] = input_ids[i, len(input_id_without_captions):]\n",
    "\n",
    "    inputs = {\n",
    "        'input_ids': input_ids,\n",
    "        'attention_mask': attention_mask,\n",
    "        'labels': labels,\n",
    "        'images': images_tensor,\n",
    "        'image_sizes': image_sizes,\n",
    "    }\n",
    "\n",
    "    return inputs\n",
    "\n",
    "# Make sure to define the function outside of the lambda to ensure it's picklable\n",
    "def transform_batch(batch):\n",
    "    return tokenize_and_create_labels(batch, image_processor, tokenizer, model)\n",
    "\n",
    "# load and prepare the dataset\n",
    "ds = load_dataset('fuerstfabian/cat_figures')\n",
    "\n",
    "train_ds = ds['train']\n",
    "eval_ds = ds['test']\n",
    "\n",
    "# Apply the transformation function to the dataset\n",
    "train_ds.set_transform(transform_batch)\n",
    "eval_ds.set_transform(transform_batch)"
   ]
  },
  {
   "cell_type": "markdown",
   "metadata": {},
   "source": [
    "## LoRA"
   ]
  },
  {
   "cell_type": "markdown",
   "metadata": {},
   "source": [
    "Nachdem erstellen der Config des Low-rank Adapters (LoRA) können wir das PeftModel mit der get_peft_model Funktion laden"
   ]
  },
  {
   "cell_type": "code",
   "execution_count": null,
   "metadata": {},
   "outputs": [],
   "source": [
    "print(model)"
   ]
  },
  {
   "cell_type": "code",
   "execution_count": null,
   "metadata": {},
   "outputs": [],
   "source": [
    "config = LoraConfig(\n",
    "    r=16,\n",
    "    lora_alpha=32,\n",
    "    target_modules=[\n",
    "        'q_proj', 'k_proj', 'v_proj',\n",
    "        'train', \n",
    "        'down_proj', 'gate_proj'\n",
    "    ],\n",
    "    lora_dropout=0.05,\n",
    "    bias='none',\n",
    ")\n",
    "model = get_peft_model(model, config)"
   ]
  },
  {
   "cell_type": "code",
   "execution_count": null,
   "metadata": {},
   "outputs": [],
   "source": [
    "model.print_trainable_parameters()"
   ]
  },
  {
   "cell_type": "markdown",
   "metadata": {},
   "source": [
    "## Pre-Training Evaluation"
   ]
  },
  {
   "cell_type": "code",
   "execution_count": null,
   "metadata": {},
   "outputs": [],
   "source": [
    "import matplotlib.pyplot as plt\n",
    "\n",
    "# Temporarly disable the transformation to access the original data\n",
    "eval_ds.reset_format()\n",
    "\n",
    "# iterate over each example in the val dataset\n",
    "for i in range(len(eval_ds)):\n",
    "    # Access the original image and captions for the current row\n",
    "    image = eval_ds[i]['image']\n",
    "    captions = eval_ds[i]['captions']\n",
    "\n",
    "    # Display the image with matplotlib\n",
    "    plt.imshow(image)\n",
    "    plt.axis('off')\n",
    "    plt.show()\n",
    "\n",
    "    eval_model(\n",
    "        tokenizer,\n",
    "        model,\n",
    "        image_processor,\n",
    "        context_len,\n",
    "        image,\n",
    "        'What do you see in the image?'\n",
    "    )\n",
    "\n",
    "    print(f\"\\nCorrect captions: {captions}\\n\\n\")\n",
    "\n",
    "# Re-enable the transformation if needed\n",
    "eval_ds.set_transform(lambda batch: tokenize_and_create_labels(batch, image_processor, tokenizer, model))"
   ]
  },
  {
   "cell_type": "markdown",
   "metadata": {},
   "source": [
    "## Training "
   ]
  },
  {
   "cell_type": "markdown",
   "metadata": {},
   "source": [
    "Nach all diesen Schritten können wir endlich das Modell mit dem Hugging Face Trainer fine-tunen!!🎉<br /><br />Da das fine-tuning mit fp16 zu overflows führen kann trainieren wir mit bf16 mixed precision."
   ]
  },
  {
   "cell_type": "code",
   "execution_count": null,
   "metadata": {},
   "outputs": [],
   "source": [
    "from torch.utils.data import DataLoader\n",
    "import matplotlib.pyplot as plt\n",
    "import numpy as np\n",
    "\n",
    "# Assuming train_ds is your training dataset prepared as a PyTorch Dataset object\n",
    "batch_size = 4\n",
    "train_loader = DataLoader(train_ds, batch_size=batch_size, shuffle=True)\n",
    "\n",
    "# Assuming train_loader is your DataLoader for the training dataset\n",
    "for batch in train_loader:\n",
    "    print(batch.keys()) # Print the dictionary keys to see what data is included in a batch\n",
    "\n",
    "    # If 'images' is a key, this indicates that images are being load_dataset\n",
    "    if 'images' in batch:\n",
    "        print('Images are included in the DataLoader')\n",
    "        print(f\"Batch 'images' shape: {batch['images'].shape}\")\n",
    "\n",
    "    #Similarly, check for other expected keys, like 'input_ids', 'attention_mask'\n",
    "    if 'input_ids' in batch and 'attention_mask' in batch:\n",
    "        input_ids_first_row = batch['input_ids'][1]\n",
    "        print(f\"First row of input_ids: \\n{input_ids_first_row.tolist()}\")\n",
    "        print('Text inputs are included in the DataLoader')\n",
    "        print(f\"Batch 'attention_mask' shape: {batch['attention_mask'].shape}\")\n",
    "\n",
    "        # Print the first row of labels, replace ignore_index with the string '[IGNORE]'\n",
    "        labels = batch['labels'][1].tolist()\n",
    "        labels_str = ['[IGNORE]' if label == -100 else str(label) for label in labels]\n",
    "        print(f\"Lables: {labels_str}\")\n",
    "\n",
    "        # Print the first row of the attention mask\n",
    "        attention_mask_str = batch['attention_mask'][1].tolist()\n",
    "        print(f\"Attention mask: {attention_mask_str}\")\n",
    "\n",
    "    # Optionally, display an image from the batch to visually inspect the data\n",
    "    if 'images' in batch:\n",
    "        images_tensor = batch['images'][1]\n",
    "        print(f\" First Row Image Data type: {images_tensor.dtype}\")\n",
    "        print(f\" First Row Image Shape: {images_tensor.shape}\")\n",
    "        print(f\"First Row Image Value range: [{images_tensor.min()}, {images_tensor.max()}]\")\n",
    "\n",
    "    break # Only check the first batch"
   ]
  },
  {
   "cell_type": "code",
   "execution_count": null,
   "metadata": {},
   "outputs": [],
   "source": [
    "'''output_sample=[<paste first row of input_ids here>] # Output of the model, # Delete the image token(-200) entry\n",
    "print(tokenizer.decode(output_sample))'''"
   ]
  },
  {
   "cell_type": "code",
   "execution_count": null,
   "metadata": {},
   "outputs": [],
   "source": [
    "print(IMAGE_TOKEN_INDEX)"
   ]
  },
  {
   "cell_type": "code",
   "execution_count": null,
   "metadata": {},
   "outputs": [],
   "source": [
    "output_moddel_name = f\"{model_name}-figures\"\n",
    "\n",
    "training_args = TrainingArguments(\n",
    "    output_dir=output_moddel_name,\n",
    "    learning_rate=1e-4,\n",
    "    # fp16=True for non ampere GPUs \n",
    "    bf16=True, # RTX A6000 in this case\n",
    "    per_device_train_batch_size=4,\n",
    "    per_device_eval_batch_size=6,\n",
    "    gradient_accumulation_steps=1,\n",
    "    dataloader_pin_memory=False,\n",
    "    save_total_limit=2,\n",
    "    evaluation_strategy='steps',\n",
    "    save_strategy='steps',\n",
    "    save_steps=0.2,\n",
    "    eval_steps=0.2,\n",
    "    logging_steps=1,\n",
    "    num_train_epochs=3,\n",
    "    remove_unused_columns=False,\n",
    "    push_to_hub=False,\n",
    "    label_names=['labels'],\n",
    "    load_best_model_at_end=True,\n",
    "    report_to=None,\n",
    "    optim='adamw_torch',\n",
    ")\n",
    "\n",
    "trainer = Trainer(\n",
    "    model=model,\n",
    "    args=training_args,\n",
    "    train_dataset=train_ds,\n",
    "    eval_dataset=eval_ds,\n",
    ")\n",
    "\n",
    "trainer.train()"
   ]
  },
  {
   "cell_type": "markdown",
   "metadata": {},
   "source": [
    "## Post-Training Evaluation"
   ]
  },
  {
   "cell_type": "code",
   "execution_count": null,
   "metadata": {},
   "outputs": [],
   "source": [
    "import matplotlib.pyplot as plt\n",
    "\n",
    "# Temporarly disable the transformation to access the original data\n",
    "eval_ds.reset_format()\n",
    "\n",
    "# iterate over each example in the val dataset\n",
    "for i in range(len(eval_ds)):\n",
    "    # Access the original image and captions for the current row\n",
    "    image = eval_ds[i]['image']\n",
    "    captions = eval_ds[i]['captions']\n",
    "\n",
    "    # Display the image with matplotlib\n",
    "    plt.imshow(image)\n",
    "    plt.axis('off')\n",
    "    plt.show()\n",
    "\n",
    "    eval_model(\n",
    "        tokenizer,\n",
    "        model,\n",
    "        image_processor,\n",
    "        context_len,\n",
    "        image,\n",
    "        'What do you see in the image?'\n",
    "    )\n",
    "\n",
    "    print(f\"\\nCorrect captions: {captions}\\n\\n\")\n",
    "\n",
    "# Re-enable the transformation if needed\n",
    "eval_ds.set_transform(lambda batch: ds_transforms(batch, image_processor, tokenizer, model, device))"
   ]
  }
 ],
 "metadata": {
  "kernelspec": {
   "display_name": "Python 3",
   "language": "python",
   "name": "python3"
  },
  "language_info": {
   "codemirror_mode": {
    "name": "ipython",
    "version": 3
   },
   "file_extension": ".py",
   "mimetype": "text/x-python",
   "name": "python",
   "nbconvert_exporter": "python",
   "pygments_lexer": "ipython3",
   "version": "3.11.11"
  }
 },
 "nbformat": 4,
 "nbformat_minor": 2
}
